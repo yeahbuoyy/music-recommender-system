{
  "nbformat": 4,
  "nbformat_minor": 0,
  "metadata": {
    "colab": {
      "provenance": []
    },
    "kernelspec": {
      "name": "python3",
      "display_name": "Python 3"
    },
    "language_info": {
      "name": "python"
    }
  },
  "cells": [
    {
      "cell_type": "markdown",
      "source": [
        "This program is a machine learning model that acts as a music recommender system. This uses the concept of \"Cosine Similarity\" to do content-based filtering on a Spotify Dataset. The program generates a \"similarity score\" for each song based on its acoustic features such as acousticness, danceability, energy, and tempo, among others. Using this score, the program compares and retrieves the top 5 songs that are most similar to a given song."
      ],
      "metadata": {
        "id": "FbYTIrvLZPvv"
      }
    },
    {
      "cell_type": "code",
      "execution_count": null,
      "metadata": {
        "id": "s9-X-ibP_fvf"
      },
      "outputs": [],
      "source": [
        "import pandas as pd\n",
        "import numpy as np\n",
        "from sklearn.metrics.pairwise import cosine_similarity\n",
        "\n",
        "features = ['acousticness', 'danceability', 'duration_ms', 'energy', 'instrumentalness',\n",
        "            'key', 'liveness', 'loudness', 'mode', 'speechiness', 'tempo', 'time_signature', 'valence']\n",
        "\n",
        "def CosineSimilarity(df):\n",
        "    norm = np.sqrt(np.sum(np.square(df[features].values), axis=1))\n",
        "    normalized_features = df[features].div(pd.Series(norm), axis=0)\n",
        "    CSFeatures = cosine_similarity(normalized_features)\n",
        "    return CSFeatures\n",
        "\n",
        "similar_songs = []\n",
        "for chunk in pd.read_csv(\"/content/spotifytracksdataset.csv\", chunksize=1000):\n",
        "    artist_names = chunk['artists'].unique().tolist()       \n",
        "    print(\"Distinct artist names in current chunk:\")\n",
        "    print(\"\\n\".join(artist_names))\n",
        "    artist_name = input(\"Enter the name of the artist: \")\n",
        "    artist_songs = chunk[chunk['artists'] == artist_name]\n",
        "    \n",
        "    if artist_songs.empty:\n",
        "        print(\"No songs found for the artist {}\".format(artist_name))\n",
        "        continue\n",
        "\n",
        "    print(\"Songs by {}: \".format(artist_name))\n",
        "    print(artist_songs['track_name'].values)\n",
        "\n",
        "    selected_song = input(\"Select a song from the list: \")\n",
        "    selected_song_genre = chunk.loc[chunk['track_name'] == selected_song, 'track_genre'].values[0]\n",
        "    song_idx = artist_songs.index[artist_songs['track_name'] == selected_song].tolist()\n",
        "    if not song_idx:\n",
        "        print(\"Song {} not found for the artist {}\".format(selected_song, artist_name))\n",
        "        continue\n",
        "\n",
        "    CSFeatures = CosineSimilarity(chunk)\n",
        "\n",
        "    \n",
        "    song_idx = song_idx[0]  \n",
        "    similarity_scores = list(enumerate(CSFeatures[song_idx]))\n",
        "    similarity_scores = sorted(similarity_scores, key=lambda x: x[1], reverse=True)\n",
        "\n",
        "    top_songs = []\n",
        "    selected_artist = \"\"\n",
        "    for i in range(len(similarity_scores)):\n",
        "        idx = similarity_scores[i][0]\n",
        "        song_name = chunk.iloc[idx]['track_name']\n",
        "        artist_name = chunk.iloc[idx]['artists']\n",
        "        song_genre = chunk.iloc[idx]['track_genre']\n",
        "        if selected_song == song_name:\n",
        "            selected_artist = artist_name\n",
        "            continue\n",
        "        if song_name not in top_songs and artist_name != selected_artist and song_genre == selected_song_genre:\n",
        "            top_songs.append(song_name)\n",
        "            print(\"{} - {}\".format(artist_name, song_name))\n",
        "        if len(top_songs) == 5:\n",
        "            break\n"
      ]
    }
  ]
}